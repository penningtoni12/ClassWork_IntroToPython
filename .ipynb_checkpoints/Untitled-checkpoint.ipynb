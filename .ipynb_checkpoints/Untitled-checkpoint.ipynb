{
 "cells": [
  {
   "cell_type": "markdown",
   "id": "96418504-414d-4d4b-ac46-de3eee0c2906",
   "metadata": {},
   "source": [
    "# I hope this prints out well\n",
    "\n",
    "[I also hope this shows up on GitHub!]"
   ]
  },
  {
   "cell_type": "code",
   "execution_count": null,
   "id": "3a81d308-8f8d-41ad-a4c4-63b87e4ba342",
   "metadata": {},
   "outputs": [],
   "source": []
  }
 ],
 "metadata": {
  "kernelspec": {
   "display_name": "Python 3 (ipykernel)",
   "language": "python",
   "name": "python3"
  },
  "language_info": {
   "codemirror_mode": {
    "name": "ipython",
    "version": 3
   },
   "file_extension": ".py",
   "mimetype": "text/x-python",
   "name": "python",
   "nbconvert_exporter": "python",
   "pygments_lexer": "ipython3",
   "version": "3.12.4"
  }
 },
 "nbformat": 4,
 "nbformat_minor": 5
}
