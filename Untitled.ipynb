{
 "cells": [
  {
   "cell_type": "markdown",
   "id": "a24e9500-3d80-4f28-b6c4-205817b8e7c3",
   "metadata": {},
   "source": [
    "# Chapter **3** Coding Set\n",
    "\n",
    "Work completed by [Ian Pennington].\n",
    "\n",
    "**If you start to struggle with a problem for an extended period of time, remember you can go comment on two other submissions now (seeing other student work helps), or you can post in our discussion forum for questions, which can also earn you extra credit.**"
   ]
  },
  {
   "cell_type": "markdown",
   "id": "cd094bb1-6ad8-41bf-af54-ea0d1e2ed792",
   "metadata": {},
   "source": [
    "## Algorithm Workbench"
   ]
  },
  {
   "cell_type": "markdown",
   "id": "691be6f1-4105-452a-9d6c-272d96b1b700",
   "metadata": {},
   "source": [
    "### Problem **4**\n",
    "\n",
    "The following code contains several nested if-else statements. Unfortunately, it was written without proper alignment and indentation. Rewrite the code and use the proper conventions of alignment and indentation.\n",
    "\n",
    "```\n",
    "if score >= A_score:\n",
    "print('Your grade is A.') \n",
    "else: \n",
    "if score >= B_score: \n",
    "print('Your grade is B.') \n",
    "else: \n",
    "if score >= C_score: \n",
    "print('Your grade is C.') \n",
    "else: \n",
    "if score >= D_score: \n",
    "print('Your grade is D.') \n",
    "else: \n",
    "print('Your grade is F.') \n",
    "```\n",
    "#### High-Level Overview\n",
    "For this question, I first copied the question into the code box. Then I realized the else to if statements could be condensed \n"
   ]
  },
  {
   "cell_type": "code",
   "execution_count": 11,
   "id": "fd480a8a-69b4-47fd-852c-59baa59942a2",
   "metadata": {},
   "outputs": [
    {
     "name": "stdin",
     "output_type": "stream",
     "text": [
      "Enter your grade:  65\n"
     ]
    },
    {
     "name": "stdout",
     "output_type": "stream",
     "text": [
      "Your grade is D.\n"
     ]
    }
   ],
   "source": [
    "#Making the code able to function based on user input.\n",
    "score = int(input('Enter your grade: '))\n",
    "#defining the score variables\n",
    "A_score = 91\n",
    "B_score = 81\n",
    "C_score = 71\n",
    "D_score = 60\n",
    "#Indenting the code and condencing to 'elif' statements.\n",
    "if score >= A_score:\n",
    "    print('Your grade is A.') \n",
    "elif score >= B_score: \n",
    "    print('Your grade is B.') \n",
    "elif score >= C_score: \n",
    "    print('Your grade is C.') \n",
    "elif score >= D_score: \n",
    "    print('Your grade is D.') \n",
    "else: \n",
    "    print('Your grade is F.') "
   ]
  },
  {
   "cell_type": "code",
   "execution_count": null,
   "id": "8cb741b5-ad14-4454-8627-8da0055912fa",
   "metadata": {},
   "outputs": [],
   "source": []
  }
 ],
 "metadata": {
  "kernelspec": {
   "display_name": "Python 3 (ipykernel)",
   "language": "python",
   "name": "python3"
  },
  "language_info": {
   "codemirror_mode": {
    "name": "ipython",
    "version": 3
   },
   "file_extension": ".py",
   "mimetype": "text/x-python",
   "name": "python",
   "nbconvert_exporter": "python",
   "pygments_lexer": "ipython3",
   "version": "3.12.4"
  }
 },
 "nbformat": 4,
 "nbformat_minor": 5
}
