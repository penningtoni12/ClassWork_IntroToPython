{
 "cells": [
  {
   "cell_type": "markdown",
   "id": "a24e9500-3d80-4f28-b6c4-205817b8e7c3",
   "metadata": {},
   "source": [
    "# Chapter **3** Coding Set\n",
    "\n",
    "Work completed by [Ian Pennington].\n",
    "\n",
    "**If you start to struggle with a problem for an extended period of time, remember you can go comment on two other submissions now (seeing other student work helps), or you can post in our discussion forum for questions, which can also earn you extra credit.**"
   ]
  },
  {
   "cell_type": "markdown",
   "id": "cd094bb1-6ad8-41bf-af54-ea0d1e2ed792",
   "metadata": {},
   "source": [
    "## Algorithm Workbench"
   ]
  },
  {
   "cell_type": "markdown",
   "id": "691be6f1-4105-452a-9d6c-272d96b1b700",
   "metadata": {},
   "source": [
    "### Problem **4**\n",
    "\n",
    "The following code contains several nested if-else statements. Unfortunately, it was written without proper alignment and indentation. Rewrite the code and use the proper conventions of alignment and indentation.\n",
    "\n",
    "```\n",
    "if score >= A_score:\n",
    "print('Your grade is A.') \n",
    "else: \n",
    "if score >= B_score: \n",
    "print('Your grade is B.') \n",
    "else: \n",
    "if score >= C_score: \n",
    "print('Your grade is C.') \n",
    "else: \n",
    "if score >= D_score: \n",
    "print('Your grade is D.') \n",
    "else: \n",
    "print('Your grade is F.') \n",
    "```\n",
    "#### High-Level Overview\n",
    "For this question, I first copied the question into the code box. Then I realized the else to if statements could be condensed to elif statements. After adjusting the code foe this change, I added the test variables and ran the code. After these tests, I change the score variable to allow user input.\n"
   ]
  },
  {
   "cell_type": "code",
   "execution_count": 11,
   "id": "fd480a8a-69b4-47fd-852c-59baa59942a2",
   "metadata": {},
   "outputs": [
    {
     "name": "stdin",
     "output_type": "stream",
     "text": [
      "Enter your grade:  65\n"
     ]
    },
    {
     "name": "stdout",
     "output_type": "stream",
     "text": [
      "Your grade is D.\n"
     ]
    }
   ],
   "source": [
    "#Making the code able to function based on user input.\n",
    "score = int(input('Enter your grade: '))\n",
    "#defining the score variables\n",
    "A_score = 91\n",
    "B_score = 81\n",
    "C_score = 71\n",
    "D_score = 60\n",
    "#Indenting the code and condencing to 'elif' statements.\n",
    "if score >= A_score:\n",
    "    print('Your grade is A.') \n",
    "elif score >= B_score: \n",
    "    print('Your grade is B.') \n",
    "elif score >= C_score: \n",
    "    print('Your grade is C.') \n",
    "elif score >= D_score: \n",
    "    print('Your grade is D.') \n",
    "else: \n",
    "    print('Your grade is F.') "
   ]
  },
  {
   "cell_type": "markdown",
   "id": "b64bb07f-72c7-4715-9ad2-54779c159754",
   "metadata": {},
   "source": [
    "### Problem **5**\n",
    "\n",
    "Write nested decision structures that perform the following: If amount1 is greater than 10 and amount2 is less than 100, display the greater of amount1 and amount2.\n",
    "\n",
    "#### High-Level Overview\n",
    "\n",
    "I started by defining amount1 and amount2. Then I had to make sure that the if statements were nested. It is important to add an option for the code to run if the values are equal. After I ran the code, I added user input and included f strings so that the output was easier to read when printed."
   ]
  },
  {
   "cell_type": "code",
   "execution_count": 23,
   "id": "44bf10df-823c-40fd-9b72-56e1f865ea7b",
   "metadata": {},
   "outputs": [
    {
     "name": "stdin",
     "output_type": "stream",
     "text": [
      "enter a number greater than 10:  70\n",
      "enter a number less than 100:  10\n"
     ]
    },
    {
     "name": "stdout",
     "output_type": "stream",
     "text": [
      "70 is grater than 10\n"
     ]
    }
   ],
   "source": [
    "#Defining the amount variables\n",
    "amount1 = int(input('enter a number greater than 10: '))\n",
    "amount2 = int(input('enter a number less than 100: '))\n",
    "#Make sure to have the expressions in a nested form.\n",
    "#Also, make sure to include an equal to option, or else the code will have a condition where is doesn't work.\n",
    "if amount1 > 10:\n",
    "    if amount2 < 100:\n",
    "        if (amount2 > amount1):\n",
    "            print('amount2 is greater than amount1')\n",
    "        elif (amount1 > amount2):\n",
    "            print(f'{amount1} is greater than {amount2}')\n",
    "        else:\n",
    "            print(f'{amount1} is equal to {amount2}')\n",
    "    else:\n",
    "        print(f'{amount2} is greater than 100')\n",
    "else:\n",
    "    print(f'{amount1} is less than 10')"
   ]
  },
  {
   "cell_type": "markdown",
   "id": "453b0e39-a236-45cc-9899-4514e0dffe1e",
   "metadata": {},
   "source": [
    "## Programming Exercises"
   ]
  },
  {
   "cell_type": "markdown",
   "id": "677e40f5-ef2c-429f-91af-9734cb00d028",
   "metadata": {},
   "source": [
    "### Problem **1**\n",
    "\n",
    "Write a program that asks the user for a number in the range of 1 through 7. The program should display the corresponding day of the week, where 1 = Monday, 2 = Tuesday, 3 = Wednesday, 4 = Thursday, 5 = Friday, 6 = Saturday, and 7 = Sunday. The program should display an error message if the user enters a number that is outside the range of 1 through 7.\n",
    "\n",
    "#### High-Level Overview\n",
    "\n",
    "I first started by adding a day variable, then I had to make sure the if statement didn't execute if the number exceeded the given range. After this was set up, I assigned days to numbers that the user can input. Elif statements made this easier to accomplish. Then I added the else condition (error)."
   ]
  },
  {
   "cell_type": "code",
   "execution_count": 34,
   "id": "d1882ca8-8eee-4d39-a54d-fbcc4fdecb73",
   "metadata": {},
   "outputs": [
    {
     "name": "stdin",
     "output_type": "stream",
     "text": [
      "Input a number 1-7 corresponding to a day of the week:  1\n"
     ]
    },
    {
     "name": "stdout",
     "output_type": "stream",
     "text": [
      "Monday\n"
     ]
    }
   ],
   "source": [
    "#create day of the week variable that promts the user for a number.\n",
    "day = int(input('Input a number 1-7 corresponding to a day of the week: '))\n",
    "if (day >= 1 and day <= 7):\n",
    "    if day == 1:\n",
    "        print('Monday')\n",
    "    elif day == 2:\n",
    "        print('Tuesday')\n",
    "    elif day == 3:\n",
    "        print('Wednesday')\n",
    "    elif day == 4:\n",
    "        print('Thursday')\n",
    "    elif day == 5:\n",
    "        print('Friday')\n",
    "    elif day == 6:\n",
    "        print('Saturday')\n",
    "    else:\n",
    "        print('Sunday')\n",
    "else:\n",
    "    print('That number is not between 1 and 7')"
   ]
  },
  {
   "cell_type": "markdown",
   "id": "7497ad6f-c82f-421b-8e0a-5c8e56900c2d",
   "metadata": {},
   "source": [
    "### Problem **5**\n",
    "\n",
    "Scientists measure an object’s mass in kilograms and its weight in newtons. If you know the amount of mass of an object in kilograms, you can calculate its weight in newtons with the following formula:\n",
    "\n",
    "weight = mass x 9.8\n",
    "\n",
    "Write a program that asks the user to enter an object’s mass, then calculates its weight. If the object weighs more than 500 newtons, display a message indicating that it is too heavy. If the object weighs less than 100 newtons, display a message indicating that it is too light.\n",
    "\n",
    "#### High-Level Overview\n",
    "\n",
    "*In two to three sentences at minimum, walk through your general approach to the problem and identify any particular issues you had.*\n"
   ]
  },
  {
   "cell_type": "code",
   "execution_count": null,
   "id": "4cc452e2-6c4d-4ff4-86cc-a5f0f55f74c3",
   "metadata": {},
   "outputs": [],
   "source": [
    "#write a user input variable that asks the user for the objects mass\n",
    "mass = int(input('Enter the objects mass in newtons: '))\n",
    "if(mass < 500):\n",
    "    if(mass > 100):\n",
    "        print(weight := ((mass * 9.8)),'N')\n",
    "    else:\n",
    "        print('the object is too light!')\n",
    "else:\n",
    "    print('the object is too heavy!')"
   ]
  },
  {
   "cell_type": "code",
   "execution_count": null,
   "id": "804f2e78-94a7-42be-9ab8-8c073b27f82e",
   "metadata": {},
   "outputs": [],
   "source": []
  }
 ],
 "metadata": {
  "kernelspec": {
   "display_name": "Python 3 (ipykernel)",
   "language": "python",
   "name": "python3"
  },
  "language_info": {
   "codemirror_mode": {
    "name": "ipython",
    "version": 3
   },
   "file_extension": ".py",
   "mimetype": "text/x-python",
   "name": "python",
   "nbconvert_exporter": "python",
   "pygments_lexer": "ipython3",
   "version": "3.12.4"
  }
 },
 "nbformat": 4,
 "nbformat_minor": 5
}
