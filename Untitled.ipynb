{
 "cells": [
  {
   "cell_type": "markdown",
   "id": "a24e9500-3d80-4f28-b6c4-205817b8e7c3",
   "metadata": {},
   "source": [
    "# Chapter **3** Coding Set\n",
    "\n",
    "Work completed by [Ian Pennington].\n",
    "\n",
    "**If you start to struggle with a problem for an extended period of time, remember you can go comment on two other submissions now (seeing other student work helps), or you can post in our discussion forum for questions, which can also earn you extra credit.**"
   ]
  },
  {
   "cell_type": "markdown",
   "id": "cd094bb1-6ad8-41bf-af54-ea0d1e2ed792",
   "metadata": {},
   "source": [
    "## Algorithm Workbench"
   ]
  },
  {
   "cell_type": "markdown",
   "id": "691be6f1-4105-452a-9d6c-272d96b1b700",
   "metadata": {},
   "source": [
    "### Problem **4**\n",
    "\n",
    "The following code contains several nested if-else statements. Unfortunately, it was written without proper alignment and indentation. Rewrite the code and use the proper conventions of alignment and indentation.\n",
    "\n",
    "```\n",
    "if score >= A_score:\n",
    "print('Your grade is A.') \n",
    "else: \n",
    "if score >= B_score: \n",
    "print('Your grade is B.') \n",
    "else: \n",
    "if score >= C_score: \n",
    "print('Your grade is C.') \n",
    "else: \n",
    "if score >= D_score: \n",
    "print('Your grade is D.') \n",
    "else: \n",
    "print('Your grade is F.') \n",
    "```\n",
    "#### High-Level Overview\n",
    "For this question, I first copied the question into the code box. Then I realized the else to if statements could be condensed to elif statements. After adjusting the code foe this change, I added the test variables and ran the code. After these tests, I change the score variable to allow user input.\n"
   ]
  },
  {
   "cell_type": "code",
   "execution_count": 11,
   "id": "fd480a8a-69b4-47fd-852c-59baa59942a2",
   "metadata": {},
   "outputs": [
    {
     "name": "stdin",
     "output_type": "stream",
     "text": [
      "Enter your grade:  65\n"
     ]
    },
    {
     "name": "stdout",
     "output_type": "stream",
     "text": [
      "Your grade is D.\n"
     ]
    }
   ],
   "source": [
    "#Making the code able to function based on user input.\n",
    "score = int(input('Enter your grade: '))\n",
    "#defining the score variables\n",
    "A_score = 91\n",
    "B_score = 81\n",
    "C_score = 71\n",
    "D_score = 60\n",
    "#Indenting the code and condencing to 'elif' statements.\n",
    "if score >= A_score:\n",
    "    print('Your grade is A.') \n",
    "elif score >= B_score: \n",
    "    print('Your grade is B.') \n",
    "elif score >= C_score: \n",
    "    print('Your grade is C.') \n",
    "elif score >= D_score: \n",
    "    print('Your grade is D.') \n",
    "else: \n",
    "    print('Your grade is F.') "
   ]
  },
  {
   "cell_type": "markdown",
   "id": "b64bb07f-72c7-4715-9ad2-54779c159754",
   "metadata": {},
   "source": [
    "### Problem **5**\n",
    "\n",
    "Write nested decision structures that perform the following: If amount1 is greater than 10 and amount2 is less than 100, display the greater of amount1 and amount2.\n",
    "\n",
    "#### High-Level Overview\n",
    "\n",
    "I started by defining amount1 and amount2. Then I had to make sure that the if statements were nested. It is important to add an option for the code to run if the values are equal. After I ran the code, I added user input and included f strings so that the output was easier to read when printed."
   ]
  },
  {
   "cell_type": "code",
   "execution_count": 23,
   "id": "44bf10df-823c-40fd-9b72-56e1f865ea7b",
   "metadata": {},
   "outputs": [
    {
     "name": "stdin",
     "output_type": "stream",
     "text": [
      "enter a number greater than 10:  70\n",
      "enter a number less than 100:  10\n"
     ]
    },
    {
     "name": "stdout",
     "output_type": "stream",
     "text": [
      "70 is grater than 10\n"
     ]
    }
   ],
   "source": [
    "#Defining the amount variables\n",
    "amount1 = int(input('enter a number greater than 10: '))\n",
    "amount2 = int(input('enter a number less than 100: '))\n",
    "#Make sure to have the expressions in a nested form.\n",
    "#Also, make sure to include an equal to option, or else the code will have a condition where is doesn't work.\n",
    "if amount1 > 10:\n",
    "    if amount2 < 100:\n",
    "        if (amount2 > amount1):\n",
    "            print('amount2 is greater than amount1')\n",
    "        elif (amount1 > amount2):\n",
    "            print(f'{amount1} is greater than {amount2}')\n",
    "        else:\n",
    "            print(f'{amount1} is equal to {amount2}')\n",
    "    else:\n",
    "        print(f'{amount2} is greater than 100')\n",
    "else:\n",
    "    print(f'{amount1} is less than 10')"
   ]
  },
  {
   "cell_type": "markdown",
   "id": "453b0e39-a236-45cc-9899-4514e0dffe1e",
   "metadata": {},
   "source": [
    "## Programming Exercises"
   ]
  },
  {
   "cell_type": "markdown",
   "id": "677e40f5-ef2c-429f-91af-9734cb00d028",
   "metadata": {},
   "source": [
    "### Problem **1**\n",
    "\n",
    "Write a program that asks the user for a number in the range of 1 through 7. The program should display the corresponding day of the week, where 1 = Monday, 2 = Tuesday, 3 = Wednesday, 4 = Thursday, 5 = Friday, 6 = Saturday, and 7 = Sunday. The program should display an error message if the user enters a number that is outside the range of 1 through 7.\n",
    "\n",
    "#### High-Level Overview\n",
    "\n",
    "I first started by adding a day variable, then I had to make sure the if statement didn't execute if the number exceeded the given range. After this was set up, I assigned days to numbers that the user can input. Elif statements made this easier to accomplish. Then I added the else condition (error)."
   ]
  },
  {
   "cell_type": "code",
   "execution_count": 34,
   "id": "d1882ca8-8eee-4d39-a54d-fbcc4fdecb73",
   "metadata": {},
   "outputs": [
    {
     "name": "stdin",
     "output_type": "stream",
     "text": [
      "Input a number 1-7 corresponding to a day of the week:  1\n"
     ]
    },
    {
     "name": "stdout",
     "output_type": "stream",
     "text": [
      "Monday\n"
     ]
    }
   ],
   "source": [
    "#create day of the week variable that promts the user for a number.\n",
    "day = int(input('Input a number 1-7 corresponding to a day of the week: '))\n",
    "if (day >= 1 and day <= 7):\n",
    "    if day == 1:\n",
    "        print('Monday')\n",
    "    elif day == 2:\n",
    "        print('Tuesday')\n",
    "    elif day == 3:\n",
    "        print('Wednesday')\n",
    "    elif day == 4:\n",
    "        print('Thursday')\n",
    "    elif day == 5:\n",
    "        print('Friday')\n",
    "    elif day == 6:\n",
    "        print('Saturday')\n",
    "    else:\n",
    "        print('Sunday')\n",
    "else:\n",
    "    print('That number is not between 1 and 7')"
   ]
  },
  {
   "cell_type": "markdown",
   "id": "7497ad6f-c82f-421b-8e0a-5c8e56900c2d",
   "metadata": {},
   "source": [
    "### Problem **5**\n",
    "\n",
    "Scientists measure an object’s mass in kilograms and its weight in newtons. If you know the amount of mass of an object in kilograms, you can calculate its weight in newtons with the following formula:\n",
    "\n",
    "weight = mass x 9.8\n",
    "\n",
    "Write a program that asks the user to enter an object’s mass, then calculates its weight. If the object weighs more than 500 newtons, display a message indicating that it is too heavy. If the object weighs less than 100 newtons, display a message indicating that it is too light.\n",
    "\n",
    "#### High-Level Overview\n",
    "\n",
    "At first I wanted to write the code so that I could use an and statement, then realized it had to be in a nested if statement. I wanted to try using the walrus operator, so I used it if the conditions are true. Then I had to make sure the error statements appear if the object is outside of the weight limits.\n"
   ]
  },
  {
   "cell_type": "code",
   "execution_count": 51,
   "id": "4cc452e2-6c4d-4ff4-86cc-a5f0f55f74c3",
   "metadata": {},
   "outputs": [
    {
     "name": "stdin",
     "output_type": "stream",
     "text": [
      "Enter the objects mass in newtons:  600\n"
     ]
    },
    {
     "name": "stdout",
     "output_type": "stream",
     "text": [
      "the object is too heavy!\n"
     ]
    }
   ],
   "source": [
    "#write a user input variable that asks the user for the objects mass\n",
    "mass = int(input('Enter the objects mass in newtons: '))\n",
    "#Make sure the code is in a nested if statement so you can display if it is too heavy or light.\n",
    "if(mass < 500):\n",
    "    if(mass > 100):\n",
    "        print(weight := ((mass * 9.8)),'N')\n",
    "    else:\n",
    "        print('the object is too light!')\n",
    "else:\n",
    "    print('the object is too heavy!')"
   ]
  },
  {
   "cell_type": "markdown",
   "id": "2f9481f4-cecb-4a43-924b-b573b9a1ec39",
   "metadata": {},
   "source": [
    "### Problem **15**\n",
    "\n",
    "The month of February normally has 28 days. But if it is a leap year, February has 29 days. Write a program that asks the user to enter a year. The program should then display the number of days in February that year. Use the following criteria to identify leap years:\n",
    "\n",
    "Determine whether the year is divisible by 100. If it is, then it is a leap year if and only if it is also divisible by 400. For example, 2000 is a leap year, but 2100 is not.\n",
    "\n",
    "If the year is not divisible by 100, then it is a leap year if and only if it is divisible by 4. For example, 2008 is a leap year, but 2009 is not.\n",
    "\n",
    "#### High-Level Overview\n",
    "\n",
    "First, I made sure that whatever the user entered would be a valid year. Then I used an if statement to find out if the year is not divisible by 100 but divisible by 4. Then I made sure to add print statements for the other conditions. \n"
   ]
  },
  {
   "cell_type": "code",
   "execution_count": 15,
   "id": "2eb6d3c8-e766-48b0-a21e-bfd553aa334f",
   "metadata": {},
   "outputs": [
    {
     "name": "stdin",
     "output_type": "stream",
     "text": [
      "Enter a year :  1820\n"
     ]
    },
    {
     "name": "stdout",
     "output_type": "stream",
     "text": [
      "In 1820, February has 29 days.\n"
     ]
    }
   ],
   "source": [
    "#Create a variable that asks the user for a year.4\n",
    "year = int(input('Enter a year : '))\n",
    "#use Modulus to find the leap year.\n",
    "if (year > 0):\n",
    "    if((year % 100) != 0 and (year % 4) == 0):\n",
    "        print(f'In {year}, February has 29 days.')\n",
    "    else:\n",
    "        print(f'In {year}, February has 28 days.')\n",
    "else:\n",
    "    print('Not a valid year')"
   ]
  },
  {
   "cell_type": "markdown",
   "id": "2eb31e23-e71d-4c05-8692-5e63f9256623",
   "metadata": {},
   "source": [
    "### Problem **16**\n",
    "\n",
    "shows a simplified flowchart for troubleshooting a bad Wi-Fi connection. Use the flowchart to create a program that leads a person through the steps of fixing a bad Wi-Fi connection. Here is an example of the program’s output:\n",
    "\n",
    "Reboot the computer and try to connect. \n",
    "Did that fix the problem? no [Enter] \n",
    "Reboot the router and try to connect. \n",
    "Did that fix the problem? yes [Enter]\n",
    "Notice the program ends as soon as a solution is found to the problem. Here is another example of the program’s output:\n",
    "\n",
    "Reboot the computer and try to connect. \n",
    "Did that fix the problem? no  [Enter] \n",
    "Reboot the router and try to connect. \n",
    "Did that fix the problem? no  [Enter] \n",
    "Make sure the cables between the router and modem are plugged in firmly. \n",
    "Did that fix the problem? no  [Enter] \n",
    "Move the router to a new location. \n",
    "Did that fix the problem? no  [Enter] \n",
    "Get a new router.\n",
    "\n",
    "#### High-Level Overview\n",
    "\n",
    "This code was a little tedious but not horrible. I thought it would be easier to have this all have an option for upper and lowercase letters since Python is case-sensitive. \n"
   ]
  },
  {
   "cell_type": "code",
   "execution_count": 27,
   "id": "3b72a590-0175-499a-9364-0e610b00a65a",
   "metadata": {},
   "outputs": [
    {
     "name": "stdout",
     "output_type": "stream",
     "text": [
      "Reboot the computer and try to connect\n"
     ]
    },
    {
     "name": "stdin",
     "output_type": "stream",
     "text": [
      "Did that fix the problem? no\n"
     ]
    },
    {
     "name": "stdout",
     "output_type": "stream",
     "text": [
      "Reboot the router and try to connect.\n"
     ]
    },
    {
     "name": "stdin",
     "output_type": "stream",
     "text": [
      "Did that fix the problem? no\n"
     ]
    },
    {
     "name": "stdout",
     "output_type": "stream",
     "text": [
      "Make sure the cables between the router & Modem are plugged in firmly.\n"
     ]
    },
    {
     "name": "stdin",
     "output_type": "stream",
     "text": [
      "Did that fix the problem? no\n"
     ]
    },
    {
     "name": "stdout",
     "output_type": "stream",
     "text": [
      "Move the router to a new location and try again.\n"
     ]
    },
    {
     "name": "stdin",
     "output_type": "stream",
     "text": [
      "Did that fix the problem? no\n"
     ]
    },
    {
     "name": "stdout",
     "output_type": "stream",
     "text": [
      "Get a new router.\n"
     ]
    }
   ],
   "source": [
    "print('Reboot the computer and try to connect')\n",
    "answer1 = input('Did that fix the problem?')\n",
    "if(answer1 == 'No' or answer1 == 'no'):\n",
    "    print('Reboot the router and try to connect.')\n",
    "    answer2 = input('Did that fix the problem?')\n",
    "    if(answer2 == 'No' or answer2 == 'no'):\n",
    "        print('Make sure the cables between the router & Modem are plugged in firmly.')\n",
    "        answer3 = input('Did that fix the problem?')\n",
    "        if(answer3 == 'No' or answer3 == 'no'):\n",
    "            print('Move the router to a new location and try again.')\n",
    "            answer4 = input('Did that fix the problem?')\n",
    "            if(answer4 == 'No' or answer4 == 'no'):\n",
    "                print('Get a new router.')\n",
    "            else:\n",
    "                pass\n",
    "        else:\n",
    "            pass\n",
    "    else:\n",
    "        pass\n",
    "else:\n",
    "    pass\n",
    "           \n",
    "                "
   ]
  },
  {
   "cell_type": "code",
   "execution_count": null,
   "id": "07e4b69d-9693-4312-bbe5-36b31e0a4e6d",
   "metadata": {},
   "outputs": [],
   "source": []
  }
 ],
 "metadata": {
  "kernelspec": {
   "display_name": "Python 3 (ipykernel)",
   "language": "python",
   "name": "python3"
  },
  "language_info": {
   "codemirror_mode": {
    "name": "ipython",
    "version": 3
   },
   "file_extension": ".py",
   "mimetype": "text/x-python",
   "name": "python",
   "nbconvert_exporter": "python",
   "pygments_lexer": "ipython3",
   "version": "3.12.4"
  }
 },
 "nbformat": 4,
 "nbformat_minor": 5
}
