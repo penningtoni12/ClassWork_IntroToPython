{
 "cells": [
  {
   "cell_type": "markdown",
   "id": "ea7878cf-499e-47fa-9fa2-44e9f869c192",
   "metadata": {},
   "source": [
    "## Algorithm Workbench"
   ]
  },
  {
   "attachments": {
    "04fa24c6-118e-42bf-8f4d-3eda17486729.png": {
     "image/png": "[encoded data removed]"
    }
   },
   "cell_type": "markdown",
   "id": "3cdf7658-3404-4b8b-82c7-7913f481d909",
   "metadata": {},
   "source": [
    "### Problem 1\n",
    "\n",
    "![image.png](attachment:04fa24c6-118e-42bf-8f4d-3eda17486729.png)\n",
    "\n",
    "#### High-Level Overview\n",
    "\n",
    "This question took me a while, mostly because I misread the question. After I understood it, I thought that it would be useful to add an of statement to make sure that all numbers used in the function would be valid. Then by adding break to the else statement, I can execute the print statement outside of the while loop.\n"
   ]
  },
  {
   "cell_type": "code",
   "execution_count": 3,
   "id": "0f046f15-7b91-4b3d-9fbc-33811f6890f6",
   "metadata": {},
   "outputs": [
    {
     "name": "stdin",
     "output_type": "stream",
     "text": [
      "Enter a number less than 10:  7\n"
     ]
    },
    {
     "name": "stdout",
     "output_type": "stream",
     "text": [
      "The product is 70\n"
     ]
    },
    {
     "name": "stdin",
     "output_type": "stream",
     "text": [
      "Enter a number less than 10:  8\n"
     ]
    },
    {
     "name": "stdout",
     "output_type": "stream",
     "text": [
      "The product is 80\n"
     ]
    },
    {
     "name": "stdin",
     "output_type": "stream",
     "text": [
      "Enter a number less than 10:  9\n"
     ]
    },
    {
     "name": "stdout",
     "output_type": "stream",
     "text": [
      "The product is 90\n"
     ]
    },
    {
     "name": "stdin",
     "output_type": "stream",
     "text": [
      "Enter a number less than 10:  100\n"
     ]
    },
    {
     "name": "stdout",
     "output_type": "stream",
     "text": [
      "The product is greater than or equal to 100\n"
     ]
    }
   ],
   "source": [
    "#create an accumulator variable\n",
    "product = 0\n",
    "#create a while loop that runs as long as the product is less than 100\n",
    "while product < 100:\n",
    "    #ask the user for a number less than 10, since 10 x 10 = 100\n",
    "    num = int(input(\"Enter a number less than 10: \"))\n",
    "    if num < 10:\n",
    "        product = num * 10\n",
    "        print(f\"The product is {product}\")\n",
    "    else:\n",
    "        break\n",
    "#if the numbers product is greater than 100\n",
    "print(\"The product is greater than or equal to 100\")"
   ]
  },
  {
   "attachments": {
    "0f43c352-8325-4bfc-bea5-1dc2e0603ec1.png": {
     "image/png": "[encoded data removed]"
    }
   },
   "cell_type": "markdown",
   "id": "e4410b49-1347-45fb-ba4d-287d9d31dc2b",
   "metadata": {},
   "source": [
    "### Problem 4\n",
    "\n",
    "![image.png](attachment:0f43c352-8325-4bfc-bea5-1dc2e0603ec1.png)\n",
    "\n",
    "#### High-Level Overview\n",
    "\n",
    "I thought that it would be easiest to use a for loop for this problem since it is a fixed number of iterations. I wasn't sure if the running total part meant that the total should be printed after each number input, that is what I did. It is important to make sure all numbers are available to use (float) and that the range is from 1 to 11 so it iterates 10 times.\n"
   ]
  },
  {
   "cell_type": "code",
   "execution_count": 9,
   "id": "d00a276c-f22f-44c5-a28b-ddaadce72693",
   "metadata": {},
   "outputs": [
    {
     "name": "stdin",
     "output_type": "stream",
     "text": [
      "Enter a number:  1\n"
     ]
    },
    {
     "name": "stdout",
     "output_type": "stream",
     "text": [
      "The total is  1.00\n"
     ]
    },
    {
     "name": "stdin",
     "output_type": "stream",
     "text": [
      "Enter a number:  2\n"
     ]
    },
    {
     "name": "stdout",
     "output_type": "stream",
     "text": [
      "The total is  3.00\n"
     ]
    },
    {
     "name": "stdin",
     "output_type": "stream",
     "text": [
      "Enter a number:  1\n"
     ]
    },
    {
     "name": "stdout",
     "output_type": "stream",
     "text": [
      "The total is  4.00\n"
     ]
    },
    {
     "name": "stdin",
     "output_type": "stream",
     "text": [
      "Enter a number:  5\n"
     ]
    },
    {
     "name": "stdout",
     "output_type": "stream",
     "text": [
      "The total is  9.00\n"
     ]
    },
    {
     "name": "stdin",
     "output_type": "stream",
     "text": [
      "Enter a number:  5\n"
     ]
    },
    {
     "name": "stdout",
     "output_type": "stream",
     "text": [
      "The total is  14.00\n"
     ]
    },
    {
     "name": "stdin",
     "output_type": "stream",
     "text": [
      "Enter a number:  6\n"
     ]
    },
    {
     "name": "stdout",
     "output_type": "stream",
     "text": [
      "The total is  20.00\n"
     ]
    },
    {
     "name": "stdin",
     "output_type": "stream",
     "text": [
      "Enter a number:  7\n"
     ]
    },
    {
     "name": "stdout",
     "output_type": "stream",
     "text": [
      "The total is  27.00\n"
     ]
    },
    {
     "name": "stdin",
     "output_type": "stream",
     "text": [
      "Enter a number:  2\n"
     ]
    },
    {
     "name": "stdout",
     "output_type": "stream",
     "text": [
      "The total is  29.00\n"
     ]
    },
    {
     "name": "stdin",
     "output_type": "stream",
     "text": [
      "Enter a number:  3\n"
     ]
    },
    {
     "name": "stdout",
     "output_type": "stream",
     "text": [
      "The total is  32.00\n"
     ]
    },
    {
     "name": "stdin",
     "output_type": "stream",
     "text": [
      "Enter a number:  6\n"
     ]
    },
    {
     "name": "stdout",
     "output_type": "stream",
     "text": [
      "The total is  38.00\n"
     ]
    }
   ],
   "source": [
    "# create an accumulator variable\n",
    "accumulate = 0\n",
    "# create a loop that asks the user for a number 10 times\n",
    "for i in range(1,11):\n",
    "    num = float(input(\"Enter a number: \"))\n",
    "    accumulate += num\n",
    "    print(f\"The total is {accumulate: .2f}\")"
   ]
  },
  {
   "cell_type": "markdown",
   "id": "91b93bf2-dde8-446c-8c5e-3ebcde119f6c",
   "metadata": {},
   "source": [
    "## Programming Exercises"
   ]
  },
  {
   "attachments": {
    "dc39d095-1d23-4e35-9c2e-3a9eae0a45da.png": {
     "image/png": "[encoded data removed]"
    }
   },
   "cell_type": "markdown",
   "id": "7114fa35-0e44-4cba-aedb-4c9b3f1feba5",
   "metadata": {},
   "source": [
    "### Problem 1\n",
    "\n",
    "![image.png](attachment:dc39d095-1d23-4e35-9c2e-3a9eae0a45da.png)\n",
    "\n",
    "#### High-Level Overview\n",
    "\n",
    "*In two to three sentences at minimum, walk through your general approach to the problem and identify any particular issues you had.*\n"
   ]
  },
  {
   "cell_type": "code",
   "execution_count": null,
   "id": "9d2efd37-9bcb-4f10-bd23-3349094b2a0a",
   "metadata": {},
   "outputs": [],
   "source": [
    "#we should start by including an accumulator variable since it is a running total\n",
    "accumulator = 0\n"
   ]
  }
 ],
 "metadata": {
  "kernelspec": {
   "display_name": "Python 3 (ipykernel)",
   "language": "python",
   "name": "python3"
  },
  "language_info": {
   "codemirror_mode": {
    "name": "ipython",
    "version": 3
   },
   "file_extension": ".py",
   "mimetype": "text/x-python",
   "name": "python",
   "nbconvert_exporter": "python",
   "pygments_lexer": "ipython3",
   "version": "3.12.4"
  }
 },
 "nbformat": 4,
 "nbformat_minor": 5
}
