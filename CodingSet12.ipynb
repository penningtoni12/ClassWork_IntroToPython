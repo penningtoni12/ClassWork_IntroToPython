{
 "cells": [
  {
   "cell_type": "markdown",
   "id": "4641ab04-ff89-4fd8-986e-d6ee707176b2",
   "metadata": {},
   "source": [
    "# Supplemental Coding Set\r\n",
    "\r\n",
    "Work completed bIan Penningtone].\r\n",
    "\r\n",
    "**IMPORTANT: Remember to screen record ALL of your work on at least one operation performed on your dataset. You must turn off the generative AI code-completion for this operation, as this problem is preparation for our final exam practical. You can turn off generative AI code-completion within Colab by tapping/clicking the settings icon in the upper right, tapping/clicking the AI Assistance section, and then deselecting \"Consented to use generative AI features\" and selecting \"Hide generative AI features\" (these settings may be returned to their previous states once you've completed this problem).**\r\n",
    "\r\n",
    "**If you start to struggle with a problem for an extended period of time, remember you can go comment on two other submissions now (seeing other student work helps), or you can post in our discussion forum for questions, which can also earn you extra credit.**"
   ]
  },
  {
   "cell_type": "markdown",
   "id": "66a4b1b5-a60b-430c-9431-932a61f90617",
   "metadata": {},
   "source": [
    "## Pandas Operations\r\n",
    "\r\n",
    "Please import your dataset into a Pandas Dataframe in the cell below. Please remember to display the top 10 rows of your dataset so students can easily get a sense for the dataset you chose to explore.\r\n",
    "\r\n",
    "You may perform additional operations on your dataset that were covered in our slides to explore a bit, though this is optional."
   ]
  },
  {
   "cell_type": "markdown",
   "id": "dce2f2d7-3797-4cc5-8729-5da9e021e6fb",
   "metadata": {},
   "source": [
    "# Operation 1\n",
    "\n",
    "#### Question Text\n",
    "\n",
    "import a data frame and display the first 10 rows. Then show how many player in the top 100 are from which teams.\n",
    "\n",
    "#### High-Level Overview\n",
    "\n",
    "First, we should import pandas so that we can access the csv file. Then, assign a value that points toward the data frame. By using pandas, we can display the first 10 rows of the data frame. Then, use pandas to find how many players are in the top 100 for each team\n"
   ]
  },
  {
   "cell_type": "code",
   "execution_count": 21,
   "id": "ccf8f999-fd01-44f9-a8ce-df2735772825",
   "metadata": {},
   "outputs": [
    {
     "name": "stdout",
     "output_type": "stream",
     "text": [
      "Team\n",
      "TBL        6\n",
      "BUF        6\n",
      "OTT        5\n",
      "DAL        5\n",
      "FLA        5\n",
      "PIT        4\n",
      "STL        4\n",
      "LAK        4\n",
      "MIN        4\n",
      "WPG        4\n",
      "NYR        4\n",
      "EDM        4\n",
      "TOR        4\n",
      "NJD        4\n",
      "VAN        4\n",
      "BOS        3\n",
      "SJS        3\n",
      "COL        3\n",
      "CAR        3\n",
      "SEA        3\n",
      "VGK        2\n",
      "ARI        2\n",
      "WSH        2\n",
      "ANA        2\n",
      "CGY        2\n",
      "PHI        1\n",
      "MTL        1\n",
      "DET        1\n",
      "SJS,NJD    1\n",
      "VAN,NYI    1\n",
      "CBJ        1\n",
      "NYI        1\n",
      "NSH        1\n",
      "Name: count, dtype: int64\n"
     ]
    }
   ],
   "source": [
    "# import pandas\n",
    "import pandas as pd\n",
    "\n",
    "df = pd.read_csv(\"Untitled spreadsheet - NHL23_RS_Top100 (1).csv\")\n",
    "#display the first 10 rows\n",
    "df.head(10)\n",
    "\n",
    "player_count = df['Team'].value_counts()\n",
    "print(player_count)"
   ]
  },
  {
   "cell_type": "markdown",
   "id": "774e6559-283a-4358-9f75-65e3a594e7d9",
   "metadata": {},
   "source": [
    "### Operation 2\r\n",
    "\r\n",
    "#### Question TextDisplay the player with the most penalty minutes in the top 100.w.*\r\n",
    "\r\n",
    "#### High-Level OverFor this problem, you should import pandas. use the 'loc' method in it to be able to iterate through the data frame and find the max value in the collumn/row desired.ou had.*\r\n"
   ]
  },
  {
   "cell_type": "code",
   "execution_count": 25,
   "id": "4413c65e-ca75-4943-af7d-eab70622b978",
   "metadata": {},
   "outputs": [
    {
     "name": "stdout",
     "output_type": "stream",
     "text": [
      "Player    Brady Tkachuk\n",
      "Season         20222023\n",
      "Team                OTT\n",
      "S/C                   L\n",
      "Pos                   L\n",
      "GP                   82\n",
      "G                    35\n",
      "A                    48\n",
      "P                    83\n",
      "+/-                 -10\n",
      "PIM                 126\n",
      "P/GP               1.01\n",
      "EVG                  24\n",
      "EVP                  54\n",
      "PPG                  11\n",
      "PPP                  29\n",
      "SHG                   0\n",
      "SHP                   0\n",
      "OTG                   2\n",
      "GWG                   6\n",
      "S                   347\n",
      "S%                 10.1\n",
      "TOI/GP            18:38\n",
      "FOW%               48.4\n",
      "Name: 24, dtype: object\n"
     ]
    }
   ],
   "source": [
    "# use pandas to find the player with the most penalty minutes\n",
    "most_penalty = df.loc[df['PIM'].idxmax()]\n",
    "print(most_penalty)"
   ]
  },
  {
   "cell_type": "markdown",
   "id": "f6170bab-a76e-43bb-956a-b8f4239bdc9b",
   "metadata": {},
   "source": [
    "### Operation 3\n",
    "\n",
    "#### Question Text\n",
    "\n",
    "Display the average amount of goals for the players in the top 100.\n",
    "\n",
    "#### High-Level Overview\n",
    "\n",
    "This operation was pretty straight forward. It's pretty cool to see how e\n"
   ]
  },
  {
   "cell_type": "code",
   "execution_count": 27,
   "id": "c1f39b4b-bfc9-4be1-a126-6b62d1e23ce2",
   "metadata": {},
   "outputs": [
    {
     "name": "stdout",
     "output_type": "stream",
     "text": [
      "Average goals of the players in the top 100 in the NHL: 30.48\n"
     ]
    }
   ],
   "source": [
    "average = df['G'].mean()\n",
    "print(f'Average goals of the players in the top 100 in the NHL: {average}')"
   ]
  },
  {
   "cell_type": "code",
   "execution_count": null,
   "id": "439002bb-9ad8-4a25-8680-26892689da3e",
   "metadata": {},
   "outputs": [],
   "source": []
  }
 ],
 "metadata": {
  "kernelspec": {
   "display_name": "Python 3 (ipykernel)",
   "language": "python",
   "name": "python3"
  },
  "language_info": {
   "codemirror_mode": {
    "name": "ipython",
    "version": 3
   },
   "file_extension": ".py",
   "mimetype": "text/x-python",
   "name": "python",
   "nbconvert_exporter": "python",
   "pygments_lexer": "ipython3",
   "version": "3.12.4"
  }
 },
 "nbformat": 4,
 "nbformat_minor": 5
}
