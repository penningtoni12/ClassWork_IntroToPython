{
 "cells": [
  {
   "cell_type": "markdown",
   "id": "4641ab04-ff89-4fd8-986e-d6ee707176b2",
   "metadata": {},
   "source": [
    "# Supplemental Coding Set\r\n",
    "\r\n",
    "Work completed bIan Penningtone].\r\n",
    "\r\n",
    "**IMPORTANT: Remember to screen record ALL of your work on at least one operation performed on your dataset. You must turn off the generative AI code-completion for this operation, as this problem is preparation for our final exam practical. You can turn off generative AI code-completion within Colab by tapping/clicking the settings icon in the upper right, tapping/clicking the AI Assistance section, and then deselecting \"Consented to use generative AI features\" and selecting \"Hide generative AI features\" (these settings may be returned to their previous states once you've completed this problem).**\r\n",
    "\r\n",
    "**If you start to struggle with a problem for an extended period of time, remember you can go comment on two other submissions now (seeing other student work helps), or you can post in our discussion forum for questions, which can also earn you extra credit.**"
   ]
  },
  {
   "cell_type": "markdown",
   "id": "66a4b1b5-a60b-430c-9431-932a61f90617",
   "metadata": {},
   "source": [
    "## Pandas Operations\r\n",
    "\r\n",
    "Please import your dataset into a Pandas Dataframe in the cell below. Please remember to display the top 10 rows of your dataset so students can easily get a sense for the dataset you chose to explore.\r\n",
    "\r\n",
    "You may perform additional operations on your dataset that were covered in our slides to explore a bit, though this is optional."
   ]
  },
  {
   "cell_type": "markdown",
   "id": "dce2f2d7-3797-4cc5-8729-5da9e021e6fb",
   "metadata": {},
   "source": [
    "### Operation 1\n",
    "\n",
    "#### Question Text\n",
    "\n",
    "Import a data frame and display the first 5 rows.\n",
    "\n",
    "#### High-Level Overview\n",
    "\n",
    "For this problem, you should start by importing pandas. Then assign a variable to the data frame in which you want to work on. Then, by using the pandas head function, you can display the values desired.\n"
   ]
  },
  {
   "cell_type": "code",
   "execution_count": 7,
   "id": "ccf8f999-fd01-44f9-a8ce-df2735772825",
   "metadata": {},
   "outputs": [],
   "source": [
    "import pandas as pd\n",
    "#import the csv file to work on it\n",
    "def main():\n",
    "    df = pd.read_csv(\"Untitled spreadsheet - NHL23_RS_Top100 (1).csv\")\n",
    "\n",
    "    # display the first 5 rows in the data frame\n",
    "    df.head(5)\n"
   ]
  },
  {
   "cell_type": "code",
   "execution_count": null,
   "id": "b5e9ea08-da6b-4359-8c9c-efc8a8cc4e3e",
   "metadata": {},
   "outputs": [],
   "source": []
  }
 ],
 "metadata": {
  "kernelspec": {
   "display_name": "Python 3 (ipykernel)",
   "language": "python",
   "name": "python3"
  },
  "language_info": {
   "codemirror_mode": {
    "name": "ipython",
    "version": 3
   },
   "file_extension": ".py",
   "mimetype": "text/x-python",
   "name": "python",
   "nbconvert_exporter": "python",
   "pygments_lexer": "ipython3",
   "version": "3.12.4"
  }
 },
 "nbformat": 4,
 "nbformat_minor": 5
}
