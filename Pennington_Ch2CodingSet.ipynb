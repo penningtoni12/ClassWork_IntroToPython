{
 "cells": [
  {
   "cell_type": "markdown",
   "id": "6e0ce15c-2356-4621-b9cf-3dc4e6d8cb05",
   "metadata": {},
   "source": [
    "## Algorithm Workbench"
   ]
  },
  {
   "cell_type": "markdown",
   "id": "53f1e3d5-0472-472e-8b1d-12419493c14a",
   "metadata": {},
   "source": [
    "### Problem **4**\n",
    "\n",
    "#### Question Text\n",
    "Assume the variables w, x, y, and z are all integers, and that w = 5, x = 4, y = 8, and z = 2. What value will be stored in after each of the following statements is executed?\n",
    "* a. result = x + y\n",
    "* b. result = z * 2\n",
    "* c. result = y / x\n",
    "* d. result = y - z\n",
    "* e. result = w // z\n",
    "\n",
    "\n",
    "#### High-Level Overview\n",
    "\n",
    "To run this code, I wanted to try out assigning the values to all of the variables in the problem in one statement. Creating this code was pretty simple, I just wanted to make sure I had all of my statements correct and all parentheses are there. For printing the result, I wanted to try using the f-string, this way it would be easier to include all of the results in the print statement.\n",
    "\n",
    "[Please double click this cell and update the problem number above, choosing one of the problems besides number 13 from the Chapter 2 Programming Exercises in your textbook. Then, update the question text. Finally, once you've completed the problem, please replace the high-level overview placeholder text with your own words describing your solution.]"
   ]
  },
  {
   "cell_type": "code",
   "execution_count": 59,
   "id": "838a1f1e-1804-417c-b357-8ba7487c81e3",
   "metadata": {},
   "outputs": [
    {
     "name": "stdout",
     "output_type": "stream",
     "text": [
      "the results for each quation are:a = 12, b = 4, c = 2.0, d = 6,and e = 2.\n"
     ]
    }
   ],
   "source": [
    "#assign the number values to the variables w,x,y, and z.\n",
    "w,x,y,z = 5,4,8,2\n",
    "#create a variable for the result after each statement is executed.\n",
    "result1 = (x + y)\n",
    "result2 = (z * 2)\n",
    "result3 = (y / x)\n",
    "result4 = (y - z)\n",
    "result5 = (w // z)\n",
    "#Print the results of each statement\n",
    "print(f\"the results for each quation are:a = {result1}, b = {result2}, c = {result3}, d = {result4},and e = {result5}.\")"
   ]
  },
  {
   "cell_type": "markdown",
   "id": "2a1375c1-235e-4fe1-b4b7-c84804e3bd7c",
   "metadata": {},
   "source": [
    "## Programming Exercises"
   ]
  },
  {
   "cell_type": "markdown",
   "id": "5039b976-34a8-4095-bd93-85b8350b71d5",
   "metadata": {},
   "source": [
    "### Problem **4**\n",
    "\n",
    "#### Question Text\n",
    "\n",
    "A customer in a store is purchasing five items. Write a program that asks for the price of each item, then displays the subtotal of the sale, the amount of sales tax, and the total. Assume the sales tax is 7 percent.\n",
    "\n",
    "#### High-Level Overview\n",
    "\n",
    "*In two to three sentences at minimum, walk through your general approach to the problem and identify any particular issues you had.*\n",
    "\n",
    "[Please double click this cell and update the problem number above, choosing one of the Algorithm Workbench problems from Chapter 2 of your textbook. Then, update the question text. Finally, once you've completed the problem, please replace the high-level overview placeholder text with your own words describing your solution.]"
   ]
  },
  {
   "cell_type": "code",
   "execution_count": null,
   "id": "60767f1c-d8ae-4557-962b-475d02e45bb8",
   "metadata": {},
   "outputs": [],
   "source": [
    "# create a sales tax variable\n",
    "tax = 0.07\n",
    "# ask for the price of each of the five items the customer bought. Make sure it is stored as a float so that it can contain change.\n",
    "item1 = float(input(\"What is the cost of the first item? \"))\n",
    "item2 = float(input(\"What is the cost of the second item? \"))\n",
    "item3 = float(input(\"What is the cost of the third item? \"))\n",
    "item4 = float(input(\"What is the cost of the fourth item? \"))\n",
    "item5 = float(input(\"What is the cost of the fifth item? \"))\n",
    "#create a subtotal variable so that is cleaner when printing.\n",
    "subtotal = (item1 + item2 + item3 + item4 + item5)\n",
    "# create a variable to show the amount of tax\n",
    "tax_total = (item1 * tax) + (item2 \n"
   ]
  },
  {
   "cell_type": "markdown",
   "id": "28770330-d0e3-4ffc-8659-2571737fe393",
   "metadata": {},
   "source": [
    "### Problem 13\n",
    "\n",
    "#### Question Text\n",
    "\n",
    "*Paste in the question text below.*\n",
    "\n",
    "#### High-Level Overview\n",
    "\n",
    "*In two to three sentences at minimum, walk through your general approach to the problem and identify any particular issues you had.*\n"
   ]
  },
  {
   "cell_type": "code",
   "execution_count": null,
   "id": "e4519241-7780-4811-a2de-79b25683b21d",
   "metadata": {},
   "outputs": [],
   "source": [
    "# add your code to this cell\n",
    "# remember to include comments like this one for every line of code"
   ]
  },
  {
   "cell_type": "markdown",
   "id": "9033cfd8-6f36-4045-8110-5f7f9264f594",
   "metadata": {},
   "source": [
    "## **Helpful Checks**\n",
    "\n",
    "1.   Did you comment every line of code with meaningful information that will help others reading your code?\n",
    "2.   Did you use appropriate names for your variables, functions, and/or classes?\n",
    "3.   Did you include a high-level explanation for each solution?\n",
    "4.   Did you run each cell that includes a final solution so the output is saved and easily viewed by others?\n",
    "5.   Are you sharing an editable link (i.e., Share > Anyone with the link > Editor) if using Colaboratory, or did you make more than ten commits if using GitHub?\n",
    "6.   Did you remember to comment on the submissions of two other students?"
   ]
  },
  {
   "cell_type": "code",
   "execution_count": null,
   "id": "dc9bf577-462b-4441-8f67-89bf95a281b0",
   "metadata": {},
   "outputs": [],
   "source": []
  }
 ],
 "metadata": {
  "kernelspec": {
   "display_name": "Python 3 (ipykernel)",
   "language": "python",
   "name": "python3"
  },
  "language_info": {
   "codemirror_mode": {
    "name": "ipython",
    "version": 3
   },
   "file_extension": ".py",
   "mimetype": "text/x-python",
   "name": "python",
   "nbconvert_exporter": "python",
   "pygments_lexer": "ipython3",
   "version": "3.12.4"
  }
 },
 "nbformat": 4,
 "nbformat_minor": 5
}
