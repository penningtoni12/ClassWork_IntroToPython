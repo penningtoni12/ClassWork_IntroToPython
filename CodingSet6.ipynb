{
 "cells": [
  {
   "cell_type": "markdown",
   "id": "3bd95bb9-d1d7-4b78-ba47-efb79c67c913",
   "metadata": {},
   "source": [
    "# Chapter 6 Coding Set\n",
    "\n",
    "Work completed by Ian Pennington.\n",
    "\n",
    "**If you start to struggle with a problem for an extended period of time, remember you can go comment on two other submissions now (seeing other student work helps), or you can post in our discussion forum for questions, which can also earn you extra credit.**"
   ]
  },
  {
   "cell_type": "markdown",
   "id": "4ec36c92-cbf5-4fd8-9a82-a6fc7e3d8103",
   "metadata": {},
   "source": [
    "## Algorithm Workbench"
   ]
  },
  {
   "attachments": {
    "6d251eb0-755b-4ad1-9eb3-70b13b64ec20.png": {
     "image/png": "[encoded data removed]"
    }
   },
   "cell_type": "markdown",
   "id": "c50f8dfe-ded3-4ab1-bd44-cb6ddad373c6",
   "metadata": {},
   "source": [
    "### Problem 1\n",
    "\n",
    "![image.png](attachment:6d251eb0-755b-4ad1-9eb3-70b13b64ec20.png)\n",
    "\n",
    "#### High-Level Overview\n",
    "\n",
    "*In two to three sentences at minimum, walk through your general approach to the problem and identify any particular issues you had.*\n"
   ]
  },
  {
   "cell_type": "code",
   "execution_count": 1,
   "id": "c768a651-a4d2-4b5c-b8a7-348f61e48229",
   "metadata": {},
   "outputs": [
    {
     "ename": "SyntaxError",
     "evalue": "incomplete input (2240693752.py, line 1)",
     "output_type": "error",
     "traceback": [
      "\u001b[1;36m  Cell \u001b[1;32mIn[1], line 1\u001b[1;36m\u001b[0m\n\u001b[1;33m    def main():\u001b[0m\n\u001b[1;37m               ^\u001b[0m\n\u001b[1;31mSyntaxError\u001b[0m\u001b[1;31m:\u001b[0m incomplete input\n"
     ]
    }
   ],
   "source": [
    "#Create the main function\n",
    "def main():\n",
    "    #Open an output file with the name my_name.txt\n",
    "    with open('my_name.txt', 'w') as outfile:\n",
    "        outfile.write('Ian')\n",
    "    print('"
   ]
  },
  {
   "cell_type": "code",
   "execution_count": null,
   "id": "04a0d056-ef97-4d93-a4bb-99ddd8b32f8a",
   "metadata": {},
   "outputs": [],
   "source": []
  }
 ],
 "metadata": {
  "kernelspec": {
   "display_name": "Python 3 (ipykernel)",
   "language": "python",
   "name": "python3"
  },
  "language_info": {
   "codemirror_mode": {
    "name": "ipython",
    "version": 3
   },
   "file_extension": ".py",
   "mimetype": "text/x-python",
   "name": "python",
   "nbconvert_exporter": "python",
   "pygments_lexer": "ipython3",
   "version": "3.12.4"
  }
 },
 "nbformat": 4,
 "nbformat_minor": 5
}
